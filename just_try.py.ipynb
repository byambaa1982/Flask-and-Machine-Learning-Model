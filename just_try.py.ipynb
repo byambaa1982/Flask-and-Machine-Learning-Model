{
 "cells": [
  {
   "cell_type": "code",
   "execution_count": 35,
   "metadata": {},
   "outputs": [],
   "source": [
    "from flask import Flask, jsonify, request\n",
    "from sklearn.linear_model import LogisticRegression\n",
    "from sklearn.model_selection import train_test_split\n",
    "from sklearn.metrics import classification_report\n",
    "import pandas as pd\n",
    "import numpy as np\n",
    "from flask import Flask, request, session, g, redirect, url_for, abort, \\\n",
    "     render_template, flash\n",
    "from sklearn.ensemble import RandomForestRegressor\n",
    "from sklearn.ensemble import GradientBoostingRegressor\n",
    "from sklearn.model_selection import train_test_split\n",
    "import matplotlib.pyplot as plt"
   ]
  },
  {
   "cell_type": "code",
   "execution_count": 134,
   "metadata": {},
   "outputs": [],
   "source": [
    "large = pd.read_csv('data/used_cars.csv')"
   ]
  },
  {
   "cell_type": "code",
   "execution_count": 135,
   "metadata": {},
   "outputs": [
    {
     "data": {
      "text/html": [
       "<div>\n",
       "<style scoped>\n",
       "    .dataframe tbody tr th:only-of-type {\n",
       "        vertical-align: middle;\n",
       "    }\n",
       "\n",
       "    .dataframe tbody tr th {\n",
       "        vertical-align: top;\n",
       "    }\n",
       "\n",
       "    .dataframe thead th {\n",
       "        text-align: right;\n",
       "    }\n",
       "</style>\n",
       "<table border=\"1\" class=\"dataframe\">\n",
       "  <thead>\n",
       "    <tr style=\"text-align: right;\">\n",
       "      <th></th>\n",
       "      <th>index</th>\n",
       "      <th>Mileage</th>\n",
       "      <th>price</th>\n",
       "      <th>ModelYear</th>\n",
       "      <th>brakes</th>\n",
       "      <th>airbag</th>\n",
       "      <th>camera</th>\n",
       "      <th>controls</th>\n",
       "      <th>speakers</th>\n",
       "      <th>video</th>\n",
       "      <th>...</th>\n",
       "      <th>keyless</th>\n",
       "      <th>heated</th>\n",
       "      <th>leather</th>\n",
       "      <th>armrest</th>\n",
       "      <th>total</th>\n",
       "      <th>Drivetrain</th>\n",
       "      <th>Fuel Type</th>\n",
       "      <th>Transmission</th>\n",
       "      <th>Make</th>\n",
       "      <th>Model</th>\n",
       "    </tr>\n",
       "  </thead>\n",
       "  <tbody>\n",
       "    <tr>\n",
       "      <th>0</th>\n",
       "      <td>0</td>\n",
       "      <td>89843.0</td>\n",
       "      <td>28800.0</td>\n",
       "      <td>1994.0</td>\n",
       "      <td>2</td>\n",
       "      <td>2</td>\n",
       "      <td>0</td>\n",
       "      <td>1</td>\n",
       "      <td>0</td>\n",
       "      <td>0</td>\n",
       "      <td>...</td>\n",
       "      <td>0</td>\n",
       "      <td>2</td>\n",
       "      <td>1</td>\n",
       "      <td>0</td>\n",
       "      <td>145</td>\n",
       "      <td>3</td>\n",
       "      <td>3</td>\n",
       "      <td>0</td>\n",
       "      <td>50</td>\n",
       "      <td>421</td>\n",
       "    </tr>\n",
       "    <tr>\n",
       "      <th>1</th>\n",
       "      <td>4</td>\n",
       "      <td>102685.0</td>\n",
       "      <td>5999.0</td>\n",
       "      <td>2012.0</td>\n",
       "      <td>5</td>\n",
       "      <td>7</td>\n",
       "      <td>0</td>\n",
       "      <td>10</td>\n",
       "      <td>2</td>\n",
       "      <td>4</td>\n",
       "      <td>...</td>\n",
       "      <td>1</td>\n",
       "      <td>0</td>\n",
       "      <td>0</td>\n",
       "      <td>3</td>\n",
       "      <td>447</td>\n",
       "      <td>2</td>\n",
       "      <td>3</td>\n",
       "      <td>0</td>\n",
       "      <td>31</td>\n",
       "      <td>314</td>\n",
       "    </tr>\n",
       "    <tr>\n",
       "      <th>2</th>\n",
       "      <td>5</td>\n",
       "      <td>13793.0</td>\n",
       "      <td>176500.0</td>\n",
       "      <td>2017.0</td>\n",
       "      <td>5</td>\n",
       "      <td>9</td>\n",
       "      <td>1</td>\n",
       "      <td>11</td>\n",
       "      <td>3</td>\n",
       "      <td>6</td>\n",
       "      <td>...</td>\n",
       "      <td>1</td>\n",
       "      <td>7</td>\n",
       "      <td>4</td>\n",
       "      <td>3</td>\n",
       "      <td>453</td>\n",
       "      <td>3</td>\n",
       "      <td>3</td>\n",
       "      <td>0</td>\n",
       "      <td>3</td>\n",
       "      <td>152</td>\n",
       "    </tr>\n",
       "    <tr>\n",
       "      <th>3</th>\n",
       "      <td>6</td>\n",
       "      <td>41050.0</td>\n",
       "      <td>34695.0</td>\n",
       "      <td>2013.0</td>\n",
       "      <td>4</td>\n",
       "      <td>6</td>\n",
       "      <td>0</td>\n",
       "      <td>11</td>\n",
       "      <td>1</td>\n",
       "      <td>6</td>\n",
       "      <td>...</td>\n",
       "      <td>1</td>\n",
       "      <td>6</td>\n",
       "      <td>4</td>\n",
       "      <td>0</td>\n",
       "      <td>375</td>\n",
       "      <td>3</td>\n",
       "      <td>3</td>\n",
       "      <td>0</td>\n",
       "      <td>6</td>\n",
       "      <td>287</td>\n",
       "    </tr>\n",
       "    <tr>\n",
       "      <th>4</th>\n",
       "      <td>7</td>\n",
       "      <td>2592.0</td>\n",
       "      <td>429800.0</td>\n",
       "      <td>2015.0</td>\n",
       "      <td>4</td>\n",
       "      <td>2</td>\n",
       "      <td>1</td>\n",
       "      <td>11</td>\n",
       "      <td>0</td>\n",
       "      <td>1</td>\n",
       "      <td>...</td>\n",
       "      <td>1</td>\n",
       "      <td>1</td>\n",
       "      <td>3</td>\n",
       "      <td>0</td>\n",
       "      <td>405</td>\n",
       "      <td>3</td>\n",
       "      <td>3</td>\n",
       "      <td>0</td>\n",
       "      <td>12</td>\n",
       "      <td>32</td>\n",
       "    </tr>\n",
       "  </tbody>\n",
       "</table>\n",
       "<p>5 rows × 24 columns</p>\n",
       "</div>"
      ],
      "text/plain": [
       "   index   Mileage     price  ModelYear  brakes  airbag  camera  controls  \\\n",
       "0      0   89843.0   28800.0     1994.0       2       2       0         1   \n",
       "1      4  102685.0    5999.0     2012.0       5       7       0        10   \n",
       "2      5   13793.0  176500.0     2017.0       5       9       1        11   \n",
       "3      6   41050.0   34695.0     2013.0       4       6       0        11   \n",
       "4      7    2592.0  429800.0     2015.0       4       2       1        11   \n",
       "\n",
       "   speakers  video  ...    keyless  heated  leather  armrest  total  \\\n",
       "0         0      0  ...          0       2        1        0    145   \n",
       "1         2      4  ...          1       0        0        3    447   \n",
       "2         3      6  ...          1       7        4        3    453   \n",
       "3         1      6  ...          1       6        4        0    375   \n",
       "4         0      1  ...          1       1        3        0    405   \n",
       "\n",
       "   Drivetrain  Fuel Type  Transmission  Make  Model  \n",
       "0           3          3             0    50    421  \n",
       "1           2          3             0    31    314  \n",
       "2           3          3             0     3    152  \n",
       "3           3          3             0     6    287  \n",
       "4           3          3             0    12     32  \n",
       "\n",
       "[5 rows x 24 columns]"
      ]
     },
     "execution_count": 135,
     "metadata": {},
     "output_type": "execute_result"
    }
   ],
   "source": [
    "large.head()"
   ]
  },
  {
   "cell_type": "code",
   "execution_count": 101,
   "metadata": {},
   "outputs": [
    {
     "name": "stderr",
     "output_type": "stream",
     "text": [
      "/Users/enkhbat/miniconda3/lib/python3.6/site-packages/sklearn/utils/validation.py:578: DataConversionWarning: A column-vector y was passed when a 1d array was expected. Please change the shape of y to (n_samples, ), for example using ravel().\n",
      "  y = column_or_1d(y, warn=True)\n"
     ]
    }
   ],
   "source": [
    "large=large.dropna()\n",
    "large=large.drop('index', axis=1)\n",
    "\n",
    "X=large.drop('price', axis=1)\n",
    "y=large[['price']]\n",
    "X_train, X_test, y_train, y_test = train_test_split(X, y, test_size=0.33, random_state=42)\n",
    "\n",
    "gbr = GradientBoostingRegressor(n_estimators=90, learning_rate=0.1,\n",
    "     max_depth=5, random_state=0, loss='ls')\n",
    "\n",
    "gbr.fit(X_train, np.log(y_train))\n",
    "gbr.score(X_train, np.log(y_train))\n",
    "gbr.score(X_test, np.log(y_test))\n",
    "y_pred=gbr.predict(X_test)\n",
    "y_pred=np.exp(y_pred)"
   ]
  },
  {
   "cell_type": "code",
   "execution_count": 139,
   "metadata": {},
   "outputs": [
    {
     "data": {
      "text/plain": [
       "27665.920712400926"
      ]
     },
     "execution_count": 139,
     "metadata": {},
     "output_type": "execute_result"
    }
   ],
   "source": [
    "y_pred[0]"
   ]
  },
  {
   "cell_type": "code",
   "execution_count": 133,
   "metadata": {
    "scrolled": true
   },
   "outputs": [
    {
     "data": {
      "text/plain": [
       "Mileage         89843.0\n",
       "ModelYear        1994.0\n",
       "brakes              2.0\n",
       "airbag              2.0\n",
       "camera              0.0\n",
       "controls            1.0\n",
       "speakers            0.0\n",
       "video               0.0\n",
       "bluetooth           0.0\n",
       "alarm               1.0\n",
       "navigations         0.0\n",
       "digital             0.0\n",
       "keyless             0.0\n",
       "heated              2.0\n",
       "leather             1.0\n",
       "armrest             0.0\n",
       "total             145.0\n",
       "Drivetrain          3.0\n",
       "Fuel Type           3.0\n",
       "Transmission        0.0\n",
       "Make               50.0\n",
       "Model             421.0\n",
       "Name: 0, dtype: float64"
      ]
     },
     "execution_count": 133,
     "metadata": {},
     "output_type": "execute_result"
    }
   ],
   "source": [
    "large.loc[0]"
   ]
  },
  {
   "cell_type": "code",
   "execution_count": 104,
   "metadata": {},
   "outputs": [
    {
     "data": {
      "text/plain": [
       "23"
      ]
     },
     "execution_count": 104,
     "metadata": {},
     "output_type": "execute_result"
    }
   ],
   "source": [
    "len(large.columns)"
   ]
  },
  {
   "cell_type": "code",
   "execution_count": 108,
   "metadata": {},
   "outputs": [],
   "source": [
    "def predcars():\n",
    "    data = {} \n",
    "    if request.form:\n",
    "        # get the form data\n",
    "        form_data = request.form\n",
    "        data['form'] = form_data\n",
    "        predict_mile = float(form_data['predict_mile'])\n",
    "        predict_modelyear=float(form_data['predict_year'])\n",
    "        predict_brake=float(form_data['predict_brake'])\n",
    "        predict_airbag=float(form_data['predict_airbag'])\n",
    "        predict_camera=float(form_data['predict_camera'])\n",
    "        predict_control=float(form_data['predict_control'])\n",
    "        predict_speaker=float(form_data['predict_speaker'])\n",
    "        predict_video=float(form_data['predict_video'])\n",
    "        predict_bluetooth=float(form_data['predict_bluetooth'])\n",
    "        predict_alarm=float(form_data['predict_alarm'])\n",
    "        predict_navigation=float(form_data['predict_navigation'])\n",
    "        predict_digital=float(form_data['predict_digital'])\n",
    "        predict_keyless=float(form_data['predict_keyless'])\n",
    "        predict_heated=float(form_data['predict_heated'])\n",
    "        predict_leater=float(form_data['predict_leather'])\n",
    "        predict_armrest=float(form_data['predict_armrest'])\n",
    "        predict_total=float(form_data['predict_total'])\n",
    "        predict_drivetrain=float(form_data['predict_drivetrain'])\n",
    "        predict_fueltype=float(form_data['predict_fueltype'])\n",
    "        predict_transmission=float(form_data['predict_transmission'])\n",
    "        predict_make=float(form_data['predict_make'])\n",
    "        predict_model=float(form_data['predict_model'])\n",
    "        input_data = np.array([predict_mile,\n",
    "                                predict_modelyear,\n",
    "                                predict_brake,\n",
    "                                predict_airbag,\n",
    "                                predict_camera,\n",
    "                                predict_control,\n",
    "                                predict_speaker,\n",
    "                                predict_video,\n",
    "                                predict_bluetooth,\n",
    "                                predict_alarm,\n",
    "                                predict_navigation,\n",
    "                                predict_digital,\n",
    "                                predict_keyless,\n",
    "                                predict_heated,\n",
    "                                predict_leater,\n",
    "                                predict_armrest,\n",
    "                                predict_total,\n",
    "                                predict_drivetrain,\n",
    "                                predict_fueltype,\n",
    "                                predict_transmission,\n",
    "                                predict_make, \n",
    "                                predict_model])\n",
    "        \n",
    "        # get prediction\n",
    "        prediction = gbr.predict(input_data.reshape(1, -1))\n",
    "        prediction = prediction[0][1] # probability of survival\n",
    "        data['prediction'] = 'Approximate price is {:.1f}%'.format(prediction)\n",
    "    return render_template('cars.html', data=data)"
   ]
  },
  {
   "cell_type": "code",
   "execution_count": null,
   "metadata": {},
   "outputs": [],
   "source": [
    "89843.0\t28800.0\t1994.0\t2\t2\t0\t1\t0\t0\t0\t...\t0\t2\t1\t0\t145\t3\t3\t0\t50\t421"
   ]
  },
  {
   "cell_type": "code",
   "execution_count": 109,
   "metadata": {},
   "outputs": [],
   "source": [
    "input_data = np.array([89843.0, 28800.0, 1994.0, 2, 2, 0, 1, 0, 0, 0, 0, 2, 1, 0, 145, 3, 3, 0, 50, 421])"
   ]
  },
  {
   "cell_type": "code",
   "execution_count": 122,
   "metadata": {},
   "outputs": [
    {
     "data": {
      "text/plain": [
       "23"
      ]
     },
     "execution_count": 122,
     "metadata": {},
     "output_type": "execute_result"
    }
   ],
   "source": [
    "len(input_data)"
   ]
  },
  {
   "cell_type": "code",
   "execution_count": 124,
   "metadata": {},
   "outputs": [],
   "source": [
    "large=large.drop('price', axis=1)"
   ]
  },
  {
   "cell_type": "code",
   "execution_count": 125,
   "metadata": {},
   "outputs": [],
   "source": [
    "input_data=large.loc[3].values"
   ]
  },
  {
   "cell_type": "code",
   "execution_count": 131,
   "metadata": {},
   "outputs": [
    {
     "data": {
      "text/plain": [
       "array([  4.10500000e+04,   2.01300000e+03,   4.00000000e+00,\n",
       "         6.00000000e+00,   0.00000000e+00,   1.10000000e+01,\n",
       "         1.00000000e+00,   6.00000000e+00,   0.00000000e+00,\n",
       "         0.00000000e+00,   0.00000000e+00,   1.00000000e+00,\n",
       "         1.00000000e+00,   6.00000000e+00,   4.00000000e+00,\n",
       "         0.00000000e+00,   3.75000000e+02,   3.00000000e+00,\n",
       "         3.00000000e+00,   0.00000000e+00,   6.00000000e+00,\n",
       "         2.87000000e+02])"
      ]
     },
     "execution_count": 131,
     "metadata": {},
     "output_type": "execute_result"
    }
   ],
   "source": [
    "input_data"
   ]
  },
  {
   "cell_type": "code",
   "execution_count": 126,
   "metadata": {},
   "outputs": [
    {
     "data": {
      "text/plain": [
       "array([[  4.10500000e+04,   2.01300000e+03,   4.00000000e+00,\n",
       "          6.00000000e+00,   0.00000000e+00,   1.10000000e+01,\n",
       "          1.00000000e+00,   6.00000000e+00,   0.00000000e+00,\n",
       "          0.00000000e+00,   0.00000000e+00,   1.00000000e+00,\n",
       "          1.00000000e+00,   6.00000000e+00,   4.00000000e+00,\n",
       "          0.00000000e+00,   3.75000000e+02,   3.00000000e+00,\n",
       "          3.00000000e+00,   0.00000000e+00,   6.00000000e+00,\n",
       "          2.87000000e+02]])"
      ]
     },
     "execution_count": 126,
     "metadata": {},
     "output_type": "execute_result"
    }
   ],
   "source": [
    "input_data.reshape(1, -1)"
   ]
  },
  {
   "cell_type": "code",
   "execution_count": 127,
   "metadata": {},
   "outputs": [],
   "source": [
    "prediction = gbr.predict(input_data.reshape(1, -1))"
   ]
  },
  {
   "cell_type": "code",
   "execution_count": 130,
   "metadata": {},
   "outputs": [
    {
     "data": {
      "text/plain": [
       "10.392988696711312"
      ]
     },
     "execution_count": 130,
     "metadata": {},
     "output_type": "execute_result"
    }
   ],
   "source": [
    "prediction[0]"
   ]
  },
  {
   "cell_type": "code",
   "execution_count": 69,
   "metadata": {},
   "outputs": [
    {
     "data": {
      "text/plain": [
       "array([ 2,  0,  7,  6,  1,  4,  5,  9,  3,  8, 10, 11, 12, 14])"
      ]
     },
     "execution_count": 69,
     "metadata": {},
     "output_type": "execute_result"
    }
   ],
   "source": [
    "large.heated.unique()"
   ]
  },
  {
   "cell_type": "code",
   "execution_count": 70,
   "metadata": {},
   "outputs": [
    {
     "data": {
      "text/plain": [
       "array([ 2,  0,  7,  6,  1,  4,  5,  9,  3,  8, 10, 11, 12, 14])"
      ]
     },
     "execution_count": 70,
     "metadata": {},
     "output_type": "execute_result"
    }
   ],
   "source": [
    "large['heated'].unique()"
   ]
  },
  {
   "cell_type": "code",
   "execution_count": 95,
   "metadata": {},
   "outputs": [
    {
     "name": "stdout",
     "output_type": "stream",
     "text": [
      "ModelYear: [ 1994.  2012.  2017.  2013.  2015.  2005.  2016.  1996.  2007.  2010.\n",
      "  2014.  2018.  2006.  2011.  2004.  2002.  2009.  1997.  2008.  2000.\n",
      "  2003.  1998.  1990.  1999.  2001.  1995.  1988.  1993.  1984.  1987.\n",
      "  2019.  1992.  1991.]\n",
      "brakes: [ 2  5  4  1  3  6  7  0  9  8 10 13 14]\n",
      "airbag: [ 2  7  9  6  3  1  0  8  4 11 10  5 12]\n",
      "camera: [0 1 2 4 3]\n",
      "controls: [ 1 10 11  7  0  9  5  2  6  8 12 13  3  4 14 18 20 16 15 17]\n",
      "speakers: [0 2 3 1 4 5]\n",
      "video: [ 0  4  6  1  3  8  2  9 10  7  5 11 12 13 24 17 16 21 14 15 23 20 25]\n",
      "bluetooth: [0]\n",
      "alarm: [1 2 0 3 6 4]\n",
      "navigations: [0 1 2 3 4]\n",
      "digital: [0 1 2 4 3 6]\n",
      "keyless: [0 1 2 3 4 5 7 6]\n",
      "heated: [ 2  0  7  6  1  4  5  9  3  8 10 11 12 14]\n",
      "leather: [ 1  0  4  3  2  6  5  7  9  8 10 11 13]\n",
      "armrest: [0 3 1 2 4 5]\n",
      "Drivetrain: [3 2 0 1]\n",
      "Fuel Type: [3 1 0 2 4 5 6]\n",
      "Transmission: [0 1]\n",
      "Make: [50 31  3  6 12 15 36 37 33 27 40 23  9  4 26 30 17  0 18  5 32  8 11 29 49\n",
      " 21 51 25 20 22  1 47 41 52 10 39  7 28 24 43 16 35  2 45 19 13 42 44 48 34\n",
      " 14 38 46]\n",
      "Model: [421 314 152 287  32 184 261  50  80  98  96 233  68 228 416 328 381 358\n",
      " 266 401 187 312 278 438 115  71 346 250 125 315 145 113 451 165 304  75\n",
      " 342 458 279 305 252 276 285 454  72 217 427 213 195 109  89 378  76 244\n",
      " 188 463 429 103 291 445 175 235 104 259  73 110 105 201 186 216 373 384\n",
      "  30 243 174 372 348  97 321 272 180  21   2 136 172 423 159 182 112 399\n",
      "  27 206 356 404  78 138 246 357 332 324 176 355 118 274  44 442 379 361\n",
      "  94 341  57 306 290  92 163 370 149 294 264   9 468 432 323 405 208 139\n",
      " 329 295 424 144 359 311 238 364 402 167 310 248 301 338 280 148 302 426\n",
      "  60 343 340 143 362 194 409 420 387 122 386  59  34  48 237 319  70  15\n",
      "  55 470 205 275 430 117 479 363 232 298  54  74 234 214 353 245  42  86\n",
      "  12 471 197  65 375 209 284 241 439 210 366 130 204 475 119 162  26 268\n",
      " 441 156  38 271 351 461   7 114 330 193 283 157 369 178 469 227 464 414\n",
      " 383 108 331   6 422 480 478 431 393 192 322 398  14  77 466 448 218 400\n",
      " 134  53 124 390 220 221 388 418 164 460  25 326 365 292 327 146  56 462\n",
      "  52 151 415   5  82 316 191 394   1  13 406 224 459 270  84 446 203 196\n",
      "  49 352 371 447 293   3 412 141  85 236 413 262 120 436 320 407 333 240\n",
      " 263 374 433 477 111 380 212 131 391 299 425  81  61 155 481  51 189   0\n",
      " 239  28 395  93 288  91 260 219 350  87  46  40 173 303  90 286  19 181\n",
      " 411 344 335 211 308 449 185 222  37 289 339 428 476 142 183 392  99 215\n",
      "  22 107  45 300 225 273 254 226   4  24 129  18 376 403 249 437 450 256\n",
      " 121 410 334 160 200 434  83  47  16 198 457 472 255 116 135 474  17 242\n",
      " 467 444 267 170 377  58 269 417 367 258 313  36 360 229 347 473  66 127\n",
      " 325  63  67 408 171  29 132  10 153 190  95 202 349 126 453 169 389 257\n",
      " 296  62 123 354 318  69 282 397  31 385 147   8 230 419 307 337 154 137\n",
      " 133 465 317 277  88 106 179 455 443 128 102 251  39 253 435 452 166 101\n",
      " 456 281  41 440 382 297 140 150  11 199 265  43  20  79  33 168 482 161\n",
      "  35 158 207 100  23 247 483 223 345  64 231 336 309 177 368 396]\n"
     ]
    }
   ],
   "source": [
    "for i in large.columns:\n",
    "    if i not in ['index', 'Mileage', 'price','total']:\n",
    "#         print(str(i)+\" \"+large[str(i)].unique())\n",
    "        print ('%s: %s' % (str(i),large[str(i)].unique()))"
   ]
  },
  {
   "cell_type": "code",
   "execution_count": null,
   "metadata": {},
   "outputs": [],
   "source": [
    "large"
   ]
  },
  {
   "cell_type": "code",
   "execution_count": 55,
   "metadata": {},
   "outputs": [],
   "source": [
    "large=large.dropna()\n",
    "\n",
    "X=large.drop('price', axis=1)\n",
    "y=large[['price']]\n",
    "X_train, X_test, y_train, y_test = train_test_split(X, y, test_size=0.33, random_state=42)\n",
    "\n",
    "rf=RandomForestRegressor(max_depth=25, min_samples_leaf=4, n_estimators=45)"
   ]
  },
  {
   "cell_type": "code",
   "execution_count": 12,
   "metadata": {},
   "outputs": [
    {
     "name": "stderr",
     "output_type": "stream",
     "text": [
      "/Users/enkhbat/miniconda3/lib/python3.6/site-packages/ipykernel_launcher.py:1: DataConversionWarning: A column-vector y was passed when a 1d array was expected. Please change the shape of y to (n_samples,), for example using ravel().\n",
      "  \"\"\"Entry point for launching an IPython kernel.\n"
     ]
    }
   ],
   "source": [
    "rf.fit(X_train, np.log(y_train))\n",
    "rf.score(X_train, np.log(y_train))\n",
    "rf.score(X_test, np.log(y_test))\n",
    "y_pred=rf.predict(X_test)"
   ]
  },
  {
   "cell_type": "code",
   "execution_count": 13,
   "metadata": {},
   "outputs": [
    {
     "data": {
      "text/plain": [
       "0.88864907322584441"
      ]
     },
     "execution_count": 13,
     "metadata": {},
     "output_type": "execute_result"
    }
   ],
   "source": [
    "rf.score(X_train, np.log(y_train))"
   ]
  },
  {
   "cell_type": "code",
   "execution_count": 14,
   "metadata": {},
   "outputs": [
    {
     "data": {
      "text/plain": [
       "0.67070628167898716"
      ]
     },
     "execution_count": 14,
     "metadata": {},
     "output_type": "execute_result"
    }
   ],
   "source": [
    "rf.score(X_test, np.log(y_test))"
   ]
  },
  {
   "cell_type": "code",
   "execution_count": 15,
   "metadata": {},
   "outputs": [
    {
     "data": {
      "text/plain": [
       "array([  9.8948165 ,  10.06740573,  10.50615504, ...,   9.10049753,\n",
       "        10.31275897,   9.65006098])"
      ]
     },
     "execution_count": 15,
     "metadata": {},
     "output_type": "execute_result"
    }
   ],
   "source": [
    "y_pred"
   ]
  },
  {
   "cell_type": "code",
   "execution_count": 56,
   "metadata": {},
   "outputs": [],
   "source": [
    "est = GradientBoostingRegressor(n_estimators=90, learning_rate=0.1,\n",
    "     max_depth=5, random_state=0, loss='ls')"
   ]
  },
  {
   "cell_type": "code",
   "execution_count": 57,
   "metadata": {},
   "outputs": [
    {
     "name": "stderr",
     "output_type": "stream",
     "text": [
      "/Users/enkhbat/miniconda3/lib/python3.6/site-packages/sklearn/utils/validation.py:578: DataConversionWarning: A column-vector y was passed when a 1d array was expected. Please change the shape of y to (n_samples, ), for example using ravel().\n",
      "  y = column_or_1d(y, warn=True)\n"
     ]
    },
    {
     "data": {
      "text/plain": [
       "GradientBoostingRegressor(alpha=0.9, criterion='friedman_mse', init=None,\n",
       "             learning_rate=0.1, loss='ls', max_depth=5, max_features=None,\n",
       "             max_leaf_nodes=None, min_impurity_decrease=0.0,\n",
       "             min_impurity_split=None, min_samples_leaf=1,\n",
       "             min_samples_split=2, min_weight_fraction_leaf=0.0,\n",
       "             n_estimators=90, presort='auto', random_state=0,\n",
       "             subsample=1.0, verbose=0, warm_start=False)"
      ]
     },
     "execution_count": 57,
     "metadata": {},
     "output_type": "execute_result"
    }
   ],
   "source": [
    "est.fit(X_train, y_train)"
   ]
  },
  {
   "cell_type": "code",
   "execution_count": 58,
   "metadata": {},
   "outputs": [
    {
     "data": {
      "text/plain": [
       "0.98796541641013103"
      ]
     },
     "execution_count": 58,
     "metadata": {},
     "output_type": "execute_result"
    }
   ],
   "source": [
    "est.score(X_train, y_train)"
   ]
  },
  {
   "cell_type": "code",
   "execution_count": 59,
   "metadata": {},
   "outputs": [
    {
     "data": {
      "text/plain": [
       "-0.21893823489092387"
      ]
     },
     "execution_count": 59,
     "metadata": {},
     "output_type": "execute_result"
    }
   ],
   "source": [
    "est.score(X_test, y_test)"
   ]
  },
  {
   "cell_type": "code",
   "execution_count": 60,
   "metadata": {},
   "outputs": [
    {
     "name": "stderr",
     "output_type": "stream",
     "text": [
      "/Users/enkhbat/miniconda3/lib/python3.6/site-packages/sklearn/utils/validation.py:578: DataConversionWarning: A column-vector y was passed when a 1d array was expected. Please change the shape of y to (n_samples, ), for example using ravel().\n",
      "  y = column_or_1d(y, warn=True)\n"
     ]
    },
    {
     "data": {
      "text/plain": [
       "GradientBoostingRegressor(alpha=0.9, criterion='friedman_mse', init=None,\n",
       "             learning_rate=0.1, loss='ls', max_depth=5, max_features=None,\n",
       "             max_leaf_nodes=None, min_impurity_decrease=0.0,\n",
       "             min_impurity_split=None, min_samples_leaf=1,\n",
       "             min_samples_split=2, min_weight_fraction_leaf=0.0,\n",
       "             n_estimators=90, presort='auto', random_state=0,\n",
       "             subsample=1.0, verbose=0, warm_start=False)"
      ]
     },
     "execution_count": 60,
     "metadata": {},
     "output_type": "execute_result"
    }
   ],
   "source": [
    "est.fit(X_train, np.log(y_train))"
   ]
  },
  {
   "cell_type": "code",
   "execution_count": 61,
   "metadata": {},
   "outputs": [
    {
     "data": {
      "text/plain": [
       "0.91600043586469326"
      ]
     },
     "execution_count": 61,
     "metadata": {},
     "output_type": "execute_result"
    }
   ],
   "source": [
    "est.score(X_train, np.log(y_train))"
   ]
  },
  {
   "cell_type": "code",
   "execution_count": 62,
   "metadata": {},
   "outputs": [
    {
     "data": {
      "text/plain": [
       "0.7639916608764652"
      ]
     },
     "execution_count": 62,
     "metadata": {},
     "output_type": "execute_result"
    }
   ],
   "source": [
    "est.score(X_test, np.log(y_test))"
   ]
  },
  {
   "cell_type": "code",
   "execution_count": 63,
   "metadata": {},
   "outputs": [],
   "source": [
    "y_pred=est.predict(X_test)"
   ]
  },
  {
   "cell_type": "code",
   "execution_count": 64,
   "metadata": {},
   "outputs": [],
   "source": [
    "y_pred=np.exp(y_pred)"
   ]
  },
  {
   "cell_type": "code",
   "execution_count": 66,
   "metadata": {},
   "outputs": [
    {
     "data": {
      "text/plain": [
       "array([ 27502.38406574,  23866.61945863,  37625.61502512, ...,\n",
       "         8505.97819574,  30136.37917245,  13045.69696078])"
      ]
     },
     "execution_count": 66,
     "metadata": {},
     "output_type": "execute_result"
    }
   ],
   "source": [
    "y_pred"
   ]
  },
  {
   "cell_type": "code",
   "execution_count": 65,
   "metadata": {},
   "outputs": [
    {
     "data": {
      "text/plain": [
       "<matplotlib.collections.PathCollection at 0x1a246d1b70>"
      ]
     },
     "execution_count": 65,
     "metadata": {},
     "output_type": "execute_result"
    },
    {
     "data": {
      "image/png": "[encoded data removed]",
      "text/plain": [
       "<matplotlib.figure.Figure at 0x1a24767550>"
      ]
     },
     "metadata": {},
     "output_type": "display_data"
    }
   ],
   "source": [
    "plt.scatter(y_test, y_pred, color='blue', s=1)"
   ]
  },
  {
   "cell_type": "code",
   "execution_count": 47,
   "metadata": {},
   "outputs": [
    {
     "name": "stderr",
     "output_type": "stream",
     "text": [
      "/Users/enkhbat/miniconda3/lib/python3.6/site-packages/ipykernel_launcher.py:1: SettingWithCopyWarning: \n",
      "A value is trying to be set on a copy of a slice from a DataFrame.\n",
      "Try using .loc[row_indexer,col_indexer] = value instead\n",
      "\n",
      "See the caveats in the documentation: http://pandas.pydata.org/pandas-docs/stable/indexing.html#indexing-view-versus-copy\n",
      "  \"\"\"Entry point for launching an IPython kernel.\n"
     ]
    }
   ],
   "source": [
    "y_test['y_pred']=[np.exp(x) for x in y_pred]"
   ]
  },
  {
   "cell_type": "code",
   "execution_count": 48,
   "metadata": {},
   "outputs": [
    {
     "data": {
      "text/html": [
       "<div>\n",
       "<style scoped>\n",
       "    .dataframe tbody tr th:only-of-type {\n",
       "        vertical-align: middle;\n",
       "    }\n",
       "\n",
       "    .dataframe tbody tr th {\n",
       "        vertical-align: top;\n",
       "    }\n",
       "\n",
       "    .dataframe thead th {\n",
       "        text-align: right;\n",
       "    }\n",
       "</style>\n",
       "<table border=\"1\" class=\"dataframe\">\n",
       "  <thead>\n",
       "    <tr style=\"text-align: right;\">\n",
       "      <th></th>\n",
       "      <th>price</th>\n",
       "      <th>y_pred</th>\n",
       "    </tr>\n",
       "  </thead>\n",
       "  <tbody>\n",
       "    <tr>\n",
       "      <th>3628</th>\n",
       "      <td>27455.0</td>\n",
       "      <td>27502.384066</td>\n",
       "    </tr>\n",
       "    <tr>\n",
       "      <th>2016</th>\n",
       "      <td>24850.0</td>\n",
       "      <td>23866.619459</td>\n",
       "    </tr>\n",
       "    <tr>\n",
       "      <th>990</th>\n",
       "      <td>34995.0</td>\n",
       "      <td>37625.615025</td>\n",
       "    </tr>\n",
       "    <tr>\n",
       "      <th>3160</th>\n",
       "      <td>14600.0</td>\n",
       "      <td>20023.323335</td>\n",
       "    </tr>\n",
       "    <tr>\n",
       "      <th>120</th>\n",
       "      <td>24987.0</td>\n",
       "      <td>25529.033724</td>\n",
       "    </tr>\n",
       "  </tbody>\n",
       "</table>\n",
       "</div>"
      ],
      "text/plain": [
       "        price        y_pred\n",
       "3628  27455.0  27502.384066\n",
       "2016  24850.0  23866.619459\n",
       "990   34995.0  37625.615025\n",
       "3160  14600.0  20023.323335\n",
       "120   24987.0  25529.033724"
      ]
     },
     "execution_count": 48,
     "metadata": {},
     "output_type": "execute_result"
    }
   ],
   "source": [
    "y_test.head()"
   ]
  },
  {
   "cell_type": "code",
   "execution_count": 46,
   "metadata": {},
   "outputs": [
    {
     "data": {
      "text/plain": [
       "37625.615025118648"
      ]
     },
     "execution_count": 46,
     "metadata": {},
     "output_type": "execute_result"
    }
   ],
   "source": [
    "np.exp(y_pred[2])"
   ]
  },
  {
   "cell_type": "code",
   "execution_count": null,
   "metadata": {},
   "outputs": [],
   "source": []
  }
 ],
 "metadata": {
  "kernelspec": {
   "display_name": "Python 3",
   "language": "python",
   "name": "python3"
  },
  "language_info": {
   "codemirror_mode": {
    "name": "ipython",
    "version": 3
   },
   "file_extension": ".py",
   "mimetype": "text/x-python",
   "name": "python",
   "nbconvert_exporter": "python",
   "pygments_lexer": "ipython3",
   "version": "3.6.3"
  }
 },
 "nbformat": 4,
 "nbformat_minor": 2
}
